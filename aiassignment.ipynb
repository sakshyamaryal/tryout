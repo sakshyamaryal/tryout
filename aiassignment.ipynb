{
  "nbformat": 4,
  "nbformat_minor": 0,
  "metadata": {
    "colab": {
      "provenance": [],
      "authorship_tag": "ABX9TyOea19FLmSeqd9sIf9Rt/FO",
      "include_colab_link": true
    },
    "kernelspec": {
      "name": "python3",
      "display_name": "Python 3"
    },
    "language_info": {
      "name": "python"
    }
  },
  "cells": [
    {
      "cell_type": "markdown",
      "metadata": {
        "id": "view-in-github",
        "colab_type": "text"
      },
      "source": [
        "<a href=\"https://colab.research.google.com/github/sakshyamaryal/tryout/blob/main/aiassignment.ipynb\" target=\"_parent\"><img src=\"https://colab.research.google.com/assets/colab-badge.svg\" alt=\"Open In Colab\"/></a>"
      ]
    },
    {
      "cell_type": "code",
      "execution_count": 8,
      "metadata": {
        "id": "2jysQiiQA_7s"
      },
      "outputs": [],
      "source": [
        "from keras.preprocessing.image import ImageDataGenerator\n",
        "from PIL import Image\n",
        "import numpy as np\n",
        "import os\n"
      ]
    },
    {
      "cell_type": "code",
      "source": [
        "datagen = ImageDataGenerator(\n",
        "    rotation_range=20,\n",
        "    width_shift_range=0.2,\n",
        "    height_shift_range=0.2,\n",
        "    shear_range=0.2,\n",
        "    zoom_range=0.2,\n",
        "    horizontal_flip=True,\n",
        "    vertical_flip=True,\n",
        "    fill_mode='nearest'\n",
        ")"
      ],
      "metadata": {
        "id": "oDrgqtiSCMTA"
      },
      "execution_count": 9,
      "outputs": []
    },
    {
      "cell_type": "code",
      "source": [
        "input_directory = '/content/sample_data/photos'  # Directory containing input images\n",
        "output_directory = '/content/sample_data/augmented_photos'  # Directory to save augmented images"
      ],
      "metadata": {
        "id": "O4fmDbCeCPUd"
      },
      "execution_count": 10,
      "outputs": []
    },
    {
      "cell_type": "code",
      "source": [
        "if not os.path.exists(output_directory):\n",
        "    os.makedirs(output_directory)"
      ],
      "metadata": {
        "id": "xSBwtIR9CVTS"
      },
      "execution_count": 11,
      "outputs": []
    },
    {
      "cell_type": "code",
      "source": [
        "for filename in os.listdir(input_directory):\n",
        "    if filename.endswith('.jpg') or filename.endswith('.png'):  # Filter specific file extensions\n",
        "        image_path = os.path.join(input_directory, filename)\n",
        "        img = Image.open(image_path)  # Load the image using PIL\n",
        "        img = img.resize((224, 224))  # Resize the image to the desired size\n",
        "        x = np.array(img)  # Convert the image to a Numpy array\n",
        "        x = x.reshape((1,) + x.shape)  # Reshape the array to match batch size of 1\n",
        "        i = 0\n",
        "        while i < 10:  # Generate 10 augmented images per input image\n",
        "            batch = next(datagen.flow(x, batch_size=1))\n",
        "            augmented_image = batch[0].astype(np.uint8)  # Retrieve the augmented image from the batch\n",
        "            image_name = '{}.png'.format(i)  # Generate a unique filename for each augmented image\n",
        "            save_path = os.path.join(output_directory, image_name)\n",
        "            augmented_img = Image.fromarray(augmented_image)  # Convert the augmented image array to PIL Image\n",
        "            augmented_img.save(save_path)  # Save the augmented image\n",
        "            i += 1\n",
        "\n",
        "print(\"Augmentation completed. Augmented images saved in the output directory.\")"
      ],
      "metadata": {
        "colab": {
          "base_uri": "https://localhost:8080/"
        },
        "id": "hA-oeiwpCYM8",
        "outputId": "ea37662a-52bc-451f-a06b-7c6c2b75b019"
      },
      "execution_count": 12,
      "outputs": [
        {
          "output_type": "stream",
          "name": "stdout",
          "text": [
            "Augmentation completed. Augmented images saved in the output directory.\n"
          ]
        }
      ]
    }
  ]
}