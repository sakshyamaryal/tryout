{
  "nbformat": 4,
  "nbformat_minor": 0,
  "metadata": {
    "colab": {
      "provenance": [],
      "authorship_tag": "ABX9TyO+uhF/82kOY9UAe7FYf6Ko",
      "include_colab_link": true
    },
    "kernelspec": {
      "name": "python3",
      "display_name": "Python 3"
    },
    "language_info": {
      "name": "python"
    }
  },
  "cells": [
    {
      "cell_type": "markdown",
      "metadata": {
        "id": "view-in-github",
        "colab_type": "text"
      },
      "source": [
        "<a href=\"https://colab.research.google.com/github/sakshyamaryal/tryout/blob/main/aiassignment.ipynb\" target=\"_parent\"><img src=\"https://colab.research.google.com/assets/colab-badge.svg\" alt=\"Open In Colab\"/></a>"
      ]
    },
    {
      "cell_type": "code",
      "execution_count": 18,
      "metadata": {
        "id": "2jysQiiQA_7s"
      },
      "outputs": [],
      "source": [
        "from keras.preprocessing.image import ImageDataGenerator\n",
        "from PIL import Image\n",
        "import numpy as np\n",
        "import os"
      ]
    },
    {
      "cell_type": "code",
      "source": [
        "imggenerator = ImageDataGenerator(\n",
        "    rotation_range=20,\n",
        "    width_shift_range=0.2,\n",
        "    height_shift_range=0.2,\n",
        "    shear_range=0.2,\n",
        "    zoom_range=0.2,\n",
        "    horizontal_flip=True,\n",
        "    vertical_flip=True,\n",
        "    fill_mode='nearest'\n",
        ")"
      ],
      "metadata": {
        "id": "oDrgqtiSCMTA"
      },
      "execution_count": 19,
      "outputs": []
    },
    {
      "cell_type": "code",
      "source": [
        "if not os.path.exists('/content/sample_data/data_photos'):\n",
        "    os.makedirs('/content/sample_data/data_photos')"
      ],
      "metadata": {
        "id": "xSBwtIR9CVTS"
      },
      "execution_count": 20,
      "outputs": []
    },
    {
      "cell_type": "code",
      "source": [
        "photos = '/content/sample_data/photos'\n",
        "for filename in os.listdir(photos):\n",
        "    if filename.endswith('.jpg') or filename.endswith('.png'):  # Filter specific file extensions\n",
        "        image_path = os.path.join(photos, filename)\n",
        "        img = Image.open(image_path)  # Load the image using PIL\n",
        "        img = img.resize((224, 224))  # Resize the image to the desired size\n",
        "        x = np.array(img)  # Convert the image to a Numpy array\n",
        "        x = x.reshape((1,) + x.shape)  # Reshape the array to match batch size of 1\n",
        "        i = 0\n",
        "        while i < 10:  # Generate 10 augmented images per input image\n",
        "            augmented_image = next(imggenerator.flow(x, batch_size=1))[0].astype(np.uint8)  # Retrieve the augmented image from the batch\n",
        "            name_images = '{}.png'.format(i)  # Generate a unique filename for each augmented image\n",
        "            path_save_name_images = os.path.join('/content/sample_data/data_photos', name_images)\n",
        "            augmented_img = Image.fromarray(augmented_image)  # Convert the augmented image array to PIL Image\n",
        "            augmented_img.save(path_save_name_images)  # Save the augmented image\n",
        "            i += 1\n",
        "\n",
        "print(\"Augmentation completed. Augmented images saved in the output directory.\")"
      ],
      "metadata": {
        "colab": {
          "base_uri": "https://localhost:8080/"
        },
        "id": "hA-oeiwpCYM8",
        "outputId": "8fbb5be2-6f07-4721-bef2-3628ca8578bf"
      },
      "execution_count": 21,
      "outputs": [
        {
          "output_type": "stream",
          "name": "stdout",
          "text": [
            "Augmentation completed. Augmented images saved in the output directory.\n"
          ]
        }
      ]
    }
  ]
}