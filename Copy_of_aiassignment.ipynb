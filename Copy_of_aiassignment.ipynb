{
  "nbformat": 4,
  "nbformat_minor": 0,
  "metadata": {
    "colab": {
      "provenance": [],
      "authorship_tag": "ABX9TyOgiTZEJwg0/4UDze/Psm+Y",
      "include_colab_link": true
    },
    "kernelspec": {
      "name": "python3",
      "display_name": "Python 3"
    },
    "language_info": {
      "name": "python"
    }
  },
  "cells": [
    {
      "cell_type": "markdown",
      "metadata": {
        "id": "view-in-github",
        "colab_type": "text"
      },
      "source": [
        "<a href=\"https://colab.research.google.com/github/sakshyamaryal/tryout/blob/main/Copy_of_aiassignment.ipynb\" target=\"_parent\"><img src=\"https://colab.research.google.com/assets/colab-badge.svg\" alt=\"Open In Colab\"/></a>"
      ]
    },
    {
      "cell_type": "code",
      "execution_count": 44,
      "metadata": {
        "id": "2jysQiiQA_7s"
      },
      "outputs": [],
      "source": [
        "from keras.preprocessing.image import ImageDataGenerator\n",
        "from PIL import Image\n",
        "import numpy as np\n",
        "import os"
      ]
    },
    {
      "cell_type": "code",
      "source": [],
      "metadata": {
        "id": "zp5MMRVYeGTB"
      },
      "execution_count": null,
      "outputs": []
    },
    {
      "cell_type": "code",
      "source": [
        "imggenerator = ImageDataGenerator(\n",
        "    rotation_range=20,\n",
        "    width_shift_range=0.2,\n",
        "    height_shift_range=0.2,\n",
        "    shear_range=0.2,\n",
        "    zoom_range=0.2,\n",
        "    horizontal_flip=True,\n",
        "    vertical_flip=True,\n",
        "    fill_mode='nearest'\n",
        ")"
      ],
      "metadata": {
        "id": "oDrgqtiSCMTA"
      },
      "execution_count": 45,
      "outputs": []
    },
    {
      "cell_type": "code",
      "source": [
        "if not os.path.exists('/content/sample_data/data_photos'):\n",
        "    os.makedirs('/content/sample_data/photos')"
      ],
      "metadata": {
        "id": "xSBwtIR9CVTS"
      },
      "execution_count": 46,
      "outputs": []
    },
    {
      "cell_type": "code",
      "source": [
        "photos = '/content/sample_data/data_photos';\n",
        "\n",
        "# for filename in os.listdir(photos):\n",
        "#     if filename.endswith('.jpg') or filename.endswith('.png'):  # Filter specific file extensions\n",
        "#         image_path = os.path.join(photos, filename)\n",
        "#         img = Image.open(image_path)  # Load the image using PIL\n",
        "#         img = img.resize((224, 224))  # Resize the image to the desired size\n",
        "#         x = np.array(img)  # Convert the image to a Numpy array\n",
        "#         x = x.reshape((1,) + x.shape)  # Reshape the array to match batch size of 1\n",
        "#         i = 0\n",
        "#         while i < 10:  # Generate 10 augmented images per input image\n",
        "#             augmented_image = next(imggenerator.flow(x, batch_size=1))[0].astype(np.uint8)  # Retrieve the augmented image from the batch\n",
        "#             name_images = '{}_{}.png'.format(filename, i)  # Generate a unique filename for each augmented image\n",
        "#             path_save_name_images = os.path.join('/content/sample_data/data_photos', name_images)\n",
        "#             augmented_img = Image.fromarray(augmented_image)  # Convert the augmented image array to PIL Image\n",
        "#             augmented_img.save(path_save_name_images)  # Save the augmented image\n",
        "#             i += 1\n",
        "\n",
        "# print(\"Images Saved\")"
      ],
      "metadata": {
        "colab": {
          "base_uri": "https://localhost:8080/"
        },
        "id": "hA-oeiwpCYM8",
        "outputId": "ff610226-786f-42de-ba4e-d50f9eed2fb6"
      },
      "execution_count": 47,
      "outputs": [
        {
          "output_type": "stream",
          "name": "stdout",
          "text": [
            "Images Saved\n"
          ]
        }
      ]
    },
    {
      "cell_type": "code",
      "source": [
        "training_set = imggenerator.flow_from_directory(\n",
        "        photos,\n",
        "        target_size=(64, 64),\n",
        "        batch_size=32,\n",
        "        class_mode='categorical')"
      ],
      "metadata": {
        "colab": {
          "base_uri": "https://localhost:8080/"
        },
        "id": "JMdfwYI1kZYt",
        "outputId": "41a3cfde-2105-4465-c504-9ec24689b321"
      },
      "execution_count": 48,
      "outputs": [
        {
          "output_type": "stream",
          "name": "stdout",
          "text": [
            "Found 0 images belonging to 0 classes.\n"
          ]
        }
      ]
    },
    {
      "cell_type": "code",
      "source": [
        "test_datagen = ImageDataGenerator()"
      ],
      "metadata": {
        "id": "B7ZUDGIPeHxQ"
      },
      "execution_count": 42,
      "outputs": []
    },
    {
      "cell_type": "code",
      "source": [
        "\n",
        "test_set = test_datagen.flow_from_directory(\n",
        "        photos,\n",
        "        target_size=(64, 64),\n",
        "        batch_size=32,\n",
        "        class_mode='categorical')"
      ],
      "metadata": {
        "colab": {
          "base_uri": "https://localhost:8080/"
        },
        "id": "awgQBVa4gWiT",
        "outputId": "27cee9be-630e-4091-9cc9-69475dbb0252"
      },
      "execution_count": 43,
      "outputs": [
        {
          "output_type": "stream",
          "name": "stdout",
          "text": [
            "Found 0 images belonging to 0 classes.\n"
          ]
        }
      ]
    },
    {
      "cell_type": "code",
      "source": [
        "test_set.class_indices"
      ],
      "metadata": {
        "colab": {
          "base_uri": "https://localhost:8080/"
        },
        "id": "eRCCnLNlgscA",
        "outputId": "1400b192-d4aa-4720-eb04-f77016317a3b"
      },
      "execution_count": 20,
      "outputs": [
        {
          "output_type": "execute_result",
          "data": {
            "text/plain": [
              "{}"
            ]
          },
          "metadata": {},
          "execution_count": 20
        }
      ]
    }
  ]
}